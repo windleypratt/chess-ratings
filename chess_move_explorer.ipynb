{
 "cells": [
  {
   "cell_type": "code",
   "execution_count": 16,
   "id": "70b78dde-d680-4171-88cd-9f56a811b093",
   "metadata": {},
   "outputs": [
    {
     "data": {
      "application/vnd.jupyter.widget-view+json": {
       "model_id": "8c9b88a864984ca1b231585ca4c106e4",
       "version_major": 2,
       "version_minor": 0
      },
      "text/plain": [
       "RadioButtons(description='Play as:', layout=Layout(width='max-content'), options=('white', 'black'), value='wh…"
      ]
     },
     "metadata": {},
     "output_type": "display_data"
    }
   ],
   "source": [
    "import pandas as pd\n",
    "import re\n",
    "import ipywidgets as widgets\n",
    "\n",
    "\n",
    "#df = pd.read_csv('games.csv', dtype='object')\n",
    "\n",
    "rdbuttons = widgets.RadioButtons(\n",
    "    options=['white', 'black'],\n",
    "    value='white', # Defaults to 'pineapple'\n",
    "    layout={'width': 'max-content'}, # If the items' names are long\n",
    "    description='Play as:',\n",
    "    disabled=False\n",
    ")\n",
    "\n",
    "rdbuttons"
   ]
  },
  {
   "cell_type": "code",
   "execution_count": 2,
   "id": "43ab6a31-ee59-49fe-860d-35ceeca4ac3e",
   "metadata": {},
   "outputs": [
    {
     "name": "stdout",
     "output_type": "stream",
     "text": [
      "black\n"
     ]
    }
   ],
   "source": [
    "play_as = rdbuttons.value\n",
    "print(play_as)"
   ]
  },
  {
   "cell_type": "code",
   "execution_count": 3,
   "id": "6e3fe210-16a1-493b-a82f-67ce99225005",
   "metadata": {},
   "outputs": [],
   "source": [
    "#df = df[df['rated'] == 'True']\n",
    "#df = df[['url', 'rated', 'white.username', 'white.rating', 'white.result','black.username', 'black.rating', 'black.result', 'pgn']]"
   ]
  },
  {
   "cell_type": "code",
   "execution_count": 17,
   "id": "2bca66dd-a0a0-4743-bac5-5e54ecb7a29e",
   "metadata": {},
   "outputs": [],
   "source": [
    "#df = df.dropna(subset=['pgn'])\n",
    "#df['white.rating'] = df['white.rating'].astype(int)\n",
    "#df['black.rating'] = df['black.rating'].astype(int)\n",
    "\n",
    "\n",
    "\n",
    "if play_as == 'white':\n",
    "    df = pd.read_csv('white.csv', dtype='object')\n",
    "    df = df.dropna(subset=['pgn'])\n",
    "    df = df[df['rated'] == 'True']\n",
    "    #df = df[(df['black.result'] == 'checkmated') | (df['black.result'] == 'resigned')]\n",
    "    #df = df[df['white.rating'] < 1300]\n",
    "else:\n",
    "    df = pd.read_csv('black.csv', dtype='object')\n",
    "    df = df.dropna(subset=['pgn'])\n",
    "    df = df[df['rated'] == 'True']\n",
    "    #df = df[(df['white.result'] == 'checkmated') | (df['white.result'] == 'resigned')]\n",
    "    #df = df[df['black.rating'] < 1300]\n",
    "\n",
    "df = df.sort_values(by=['white.rating', 'black.rating'], ascending=[False, False])\n",
    "\n",
    "\n",
    "def regmatch(string):\n",
    "    try:\n",
    "        s = re.search('1\\.\\s.*$', string).group(0)\n",
    "        s = re.sub(r'\\{[^{}]*\\}', '', s)\n",
    "    except:\n",
    "        s = ''\n",
    "    \n",
    "    return s\n",
    "\n",
    "\n",
    "\n",
    "df['pgn'] = df['pgn'].apply(lambda x: regmatch(x))\n",
    "\n",
    "\n",
    "def next_pgn(string, regex):\n",
    "    try:\n",
    "        p = re.search('.*{}'.format(regex), string).group(0)\n",
    "    except:\n",
    "        p = ''\n",
    "    \n",
    "    return p\n",
    "\n",
    "\n",
    "\n",
    "tm = 'white'\n",
    "mv = 1\n",
    "\n",
    "m = \"--\""
   ]
  },
  {
   "cell_type": "code",
   "execution_count": 23,
   "id": "e76cf909-2d43-4111-970d-46e7efffd972",
   "metadata": {},
   "outputs": [
    {
     "name": "stdout",
     "output_type": "stream",
     "text": [
      "black to move:  3... Nxe4\n"
     ]
    },
    {
     "name": "stdin",
     "output_type": "stream",
     "text": [
      "black to move: Nex4\n"
     ]
    },
    {
     "ename": "KeyError",
     "evalue": "0",
     "output_type": "error",
     "traceback": [
      "\u001b[0;31m---------------------------------------------------------------------------\u001b[0m",
      "\u001b[0;31mValueError\u001b[0m                                Traceback (most recent call last)",
      "\u001b[0;32m~/opt/anaconda3/lib/python3.9/site-packages/pandas/core/indexes/range.py\u001b[0m in \u001b[0;36mget_loc\u001b[0;34m(self, key, method, tolerance)\u001b[0m\n\u001b[1;32m    384\u001b[0m                 \u001b[0;32mtry\u001b[0m\u001b[0;34m:\u001b[0m\u001b[0;34m\u001b[0m\u001b[0;34m\u001b[0m\u001b[0m\n\u001b[0;32m--> 385\u001b[0;31m                     \u001b[0;32mreturn\u001b[0m \u001b[0mself\u001b[0m\u001b[0;34m.\u001b[0m\u001b[0m_range\u001b[0m\u001b[0;34m.\u001b[0m\u001b[0mindex\u001b[0m\u001b[0;34m(\u001b[0m\u001b[0mnew_key\u001b[0m\u001b[0;34m)\u001b[0m\u001b[0;34m\u001b[0m\u001b[0;34m\u001b[0m\u001b[0m\n\u001b[0m\u001b[1;32m    386\u001b[0m                 \u001b[0;32mexcept\u001b[0m \u001b[0mValueError\u001b[0m \u001b[0;32mas\u001b[0m \u001b[0merr\u001b[0m\u001b[0;34m:\u001b[0m\u001b[0;34m\u001b[0m\u001b[0;34m\u001b[0m\u001b[0m\n",
      "\u001b[0;31mValueError\u001b[0m: 0 is not in range",
      "\nThe above exception was the direct cause of the following exception:\n",
      "\u001b[0;31mKeyError\u001b[0m                                  Traceback (most recent call last)",
      "\u001b[0;32m/var/folders/w2/0q5xhrf578d2c6cdn9g187jm0000gn/T/ipykernel_46854/1375463235.py\u001b[0m in \u001b[0;36m<module>\u001b[0;34m\u001b[0m\n\u001b[1;32m     36\u001b[0m     \u001b[0mnpgn\u001b[0m \u001b[0;34m=\u001b[0m \u001b[0mnpgn\u001b[0m\u001b[0;34m[\u001b[0m\u001b[0mnpgn\u001b[0m\u001b[0;34m[\u001b[0m\u001b[0;34m'next_pgn'\u001b[0m\u001b[0;34m]\u001b[0m\u001b[0;34m.\u001b[0m\u001b[0mstr\u001b[0m\u001b[0;34m.\u001b[0m\u001b[0mlen\u001b[0m\u001b[0;34m(\u001b[0m\u001b[0;34m)\u001b[0m \u001b[0;34m>\u001b[0m \u001b[0;36m0\u001b[0m\u001b[0;34m]\u001b[0m\u001b[0;34m.\u001b[0m\u001b[0mreset_index\u001b[0m\u001b[0;34m(\u001b[0m\u001b[0mdrop\u001b[0m\u001b[0;34m=\u001b[0m\u001b[0;32mTrue\u001b[0m\u001b[0;34m)\u001b[0m\u001b[0;34m\u001b[0m\u001b[0;34m\u001b[0m\u001b[0m\n\u001b[1;32m     37\u001b[0m \u001b[0;34m\u001b[0m\u001b[0m\n\u001b[0;32m---> 38\u001b[0;31m     \u001b[0mst\u001b[0m \u001b[0;34m=\u001b[0m \u001b[0mnpgn\u001b[0m\u001b[0;34m.\u001b[0m\u001b[0mnext_pgn\u001b[0m\u001b[0;34m[\u001b[0m\u001b[0;36m0\u001b[0m\u001b[0;34m]\u001b[0m\u001b[0;34m\u001b[0m\u001b[0;34m\u001b[0m\u001b[0m\n\u001b[0m\u001b[1;32m     39\u001b[0m     \u001b[0mnxt\u001b[0m \u001b[0;34m=\u001b[0m \u001b[0mre\u001b[0m\u001b[0;34m.\u001b[0m\u001b[0msearch\u001b[0m\u001b[0;34m(\u001b[0m\u001b[0mt\u001b[0m\u001b[0;34m,\u001b[0m \u001b[0mst\u001b[0m\u001b[0;34m)\u001b[0m\u001b[0;34m.\u001b[0m\u001b[0mgroup\u001b[0m\u001b[0;34m(\u001b[0m\u001b[0;36m0\u001b[0m\u001b[0;34m)\u001b[0m\u001b[0;34m\u001b[0m\u001b[0;34m\u001b[0m\u001b[0m\n\u001b[1;32m     40\u001b[0m     \u001b[0;31m#nxt = nxt.replace(' {}. '.format(mv),'')\u001b[0m\u001b[0;34m\u001b[0m\u001b[0;34m\u001b[0m\u001b[0m\n",
      "\u001b[0;32m~/opt/anaconda3/lib/python3.9/site-packages/pandas/core/series.py\u001b[0m in \u001b[0;36m__getitem__\u001b[0;34m(self, key)\u001b[0m\n\u001b[1;32m    956\u001b[0m \u001b[0;34m\u001b[0m\u001b[0m\n\u001b[1;32m    957\u001b[0m         \u001b[0;32melif\u001b[0m \u001b[0mkey_is_scalar\u001b[0m\u001b[0;34m:\u001b[0m\u001b[0;34m\u001b[0m\u001b[0;34m\u001b[0m\u001b[0m\n\u001b[0;32m--> 958\u001b[0;31m             \u001b[0;32mreturn\u001b[0m \u001b[0mself\u001b[0m\u001b[0;34m.\u001b[0m\u001b[0m_get_value\u001b[0m\u001b[0;34m(\u001b[0m\u001b[0mkey\u001b[0m\u001b[0;34m)\u001b[0m\u001b[0;34m\u001b[0m\u001b[0;34m\u001b[0m\u001b[0m\n\u001b[0m\u001b[1;32m    959\u001b[0m \u001b[0;34m\u001b[0m\u001b[0m\n\u001b[1;32m    960\u001b[0m         \u001b[0;32mif\u001b[0m \u001b[0mis_hashable\u001b[0m\u001b[0;34m(\u001b[0m\u001b[0mkey\u001b[0m\u001b[0;34m)\u001b[0m\u001b[0;34m:\u001b[0m\u001b[0;34m\u001b[0m\u001b[0;34m\u001b[0m\u001b[0m\n",
      "\u001b[0;32m~/opt/anaconda3/lib/python3.9/site-packages/pandas/core/series.py\u001b[0m in \u001b[0;36m_get_value\u001b[0;34m(self, label, takeable)\u001b[0m\n\u001b[1;32m   1067\u001b[0m \u001b[0;34m\u001b[0m\u001b[0m\n\u001b[1;32m   1068\u001b[0m         \u001b[0;31m# Similar to Index.get_value, but we do not fall back to positional\u001b[0m\u001b[0;34m\u001b[0m\u001b[0;34m\u001b[0m\u001b[0m\n\u001b[0;32m-> 1069\u001b[0;31m         \u001b[0mloc\u001b[0m \u001b[0;34m=\u001b[0m \u001b[0mself\u001b[0m\u001b[0;34m.\u001b[0m\u001b[0mindex\u001b[0m\u001b[0;34m.\u001b[0m\u001b[0mget_loc\u001b[0m\u001b[0;34m(\u001b[0m\u001b[0mlabel\u001b[0m\u001b[0;34m)\u001b[0m\u001b[0;34m\u001b[0m\u001b[0;34m\u001b[0m\u001b[0m\n\u001b[0m\u001b[1;32m   1070\u001b[0m         \u001b[0;32mreturn\u001b[0m \u001b[0mself\u001b[0m\u001b[0;34m.\u001b[0m\u001b[0mindex\u001b[0m\u001b[0;34m.\u001b[0m\u001b[0m_get_values_for_loc\u001b[0m\u001b[0;34m(\u001b[0m\u001b[0mself\u001b[0m\u001b[0;34m,\u001b[0m \u001b[0mloc\u001b[0m\u001b[0;34m,\u001b[0m \u001b[0mlabel\u001b[0m\u001b[0;34m)\u001b[0m\u001b[0;34m\u001b[0m\u001b[0;34m\u001b[0m\u001b[0m\n\u001b[1;32m   1071\u001b[0m \u001b[0;34m\u001b[0m\u001b[0m\n",
      "\u001b[0;32m~/opt/anaconda3/lib/python3.9/site-packages/pandas/core/indexes/range.py\u001b[0m in \u001b[0;36mget_loc\u001b[0;34m(self, key, method, tolerance)\u001b[0m\n\u001b[1;32m    385\u001b[0m                     \u001b[0;32mreturn\u001b[0m \u001b[0mself\u001b[0m\u001b[0;34m.\u001b[0m\u001b[0m_range\u001b[0m\u001b[0;34m.\u001b[0m\u001b[0mindex\u001b[0m\u001b[0;34m(\u001b[0m\u001b[0mnew_key\u001b[0m\u001b[0;34m)\u001b[0m\u001b[0;34m\u001b[0m\u001b[0;34m\u001b[0m\u001b[0m\n\u001b[1;32m    386\u001b[0m                 \u001b[0;32mexcept\u001b[0m \u001b[0mValueError\u001b[0m \u001b[0;32mas\u001b[0m \u001b[0merr\u001b[0m\u001b[0;34m:\u001b[0m\u001b[0;34m\u001b[0m\u001b[0;34m\u001b[0m\u001b[0m\n\u001b[0;32m--> 387\u001b[0;31m                     \u001b[0;32mraise\u001b[0m \u001b[0mKeyError\u001b[0m\u001b[0;34m(\u001b[0m\u001b[0mkey\u001b[0m\u001b[0;34m)\u001b[0m \u001b[0;32mfrom\u001b[0m \u001b[0merr\u001b[0m\u001b[0;34m\u001b[0m\u001b[0;34m\u001b[0m\u001b[0m\n\u001b[0m\u001b[1;32m    388\u001b[0m             \u001b[0mself\u001b[0m\u001b[0;34m.\u001b[0m\u001b[0m_check_indexing_error\u001b[0m\u001b[0;34m(\u001b[0m\u001b[0mkey\u001b[0m\u001b[0;34m)\u001b[0m\u001b[0;34m\u001b[0m\u001b[0;34m\u001b[0m\u001b[0m\n\u001b[1;32m    389\u001b[0m             \u001b[0;32mraise\u001b[0m \u001b[0mKeyError\u001b[0m\u001b[0;34m(\u001b[0m\u001b[0mkey\u001b[0m\u001b[0;34m)\u001b[0m\u001b[0;34m\u001b[0m\u001b[0;34m\u001b[0m\u001b[0m\n",
      "\u001b[0;31mKeyError\u001b[0m: 0"
     ]
    }
   ],
   "source": [
    "print(m)\n",
    "move = input('{} to move:'.format(tm))\n",
    "\n",
    "\n",
    "if tm == 'white':\n",
    "\n",
    "    if mv != 1:\n",
    "        mv2 = ' {}'.format(mv)\n",
    "    else:\n",
    "        mv2 = '{}'.format(mv)\n",
    "    df = df[df['pgn'].str.contains('{}. {}'.format(mv2,move))].reset_index(drop=True)\n",
    "    \n",
    "    t = ' {}\\.\\.\\.\\s([NBRQK]?)([a-h]?)([x]?)([a-h][1-8])'.format(mv)\n",
    "    \n",
    "    df['next_pgn'] = df['pgn'].apply(lambda x: next_pgn(x,t))\n",
    "    npgn = df.groupby('next_pgn')['pgn'].count().reset_index().sort_values(by='pgn', ascending=False)\n",
    "    npgn = npgn[npgn['next_pgn'].str.len() > 0].reset_index(drop=True)\n",
    "    \n",
    "    st = npgn.next_pgn[0]\n",
    "    nxt = re.search(t, st).group(0)\n",
    "    #nxt = nxt.replace(' {}... '.format(mv),'')\n",
    "    m = 'black to move: {}'.format(nxt)\n",
    "    print(m)\n",
    "    \n",
    "    tm = 'black'\n",
    "    \n",
    "else:\n",
    "\n",
    "    df = df[df['pgn'].str.contains(' {}... {}'.format(mv,move))].reset_index(drop=True)\n",
    "    mv += 1\n",
    "    \n",
    "    t = ' {}\\.\\s([NBRQK]?)([a-h]?)([x]?)([a-h][1-8])'.format(mv)\n",
    "    \n",
    "    df['next_pgn'] = df['pgn'].apply(lambda x: next_pgn(x,t))\n",
    "    npgn = df.groupby('next_pgn')['pgn'].count().reset_index().sort_values(by='pgn', ascending=False)\n",
    "    npgn = npgn[npgn['next_pgn'].str.len() > 0].reset_index(drop=True)\n",
    "    \n",
    "    st = npgn.next_pgn[0]\n",
    "    nxt = re.search(t, st).group(0)\n",
    "    #nxt = nxt.replace(' {}. '.format(mv),'')\n",
    "    m = 'white to move: {}'.format(nxt)\n",
    "    print(m)\n",
    "    \n",
    "    tm = 'white'\n",
    "    \n",
    "    \n",
    "print(len(df))\n",
    "print(st)"
   ]
  },
  {
   "cell_type": "code",
   "execution_count": null,
   "id": "f7b8101e-6463-4ad6-8049-6ff489c0d6a9",
   "metadata": {},
   "outputs": [],
   "source": []
  }
 ],
 "metadata": {
  "kernelspec": {
   "display_name": "Python 3 (ipykernel)",
   "language": "python",
   "name": "python3"
  },
  "language_info": {
   "codemirror_mode": {
    "name": "ipython",
    "version": 3
   },
   "file_extension": ".py",
   "mimetype": "text/x-python",
   "name": "python",
   "nbconvert_exporter": "python",
   "pygments_lexer": "ipython3",
   "version": "3.9.7"
  }
 },
 "nbformat": 4,
 "nbformat_minor": 5
}
