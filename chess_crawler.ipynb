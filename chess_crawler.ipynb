{
 "cells": [
  {
   "cell_type": "code",
   "execution_count": 1,
   "id": "6f8967c5-cd38-4f45-887e-0a6aa885dfcc",
   "metadata": {},
   "outputs": [],
   "source": [
    "import pandas as pd\n",
    "import numpy as np\n",
    "import requests\n",
    "import json\n",
    "import datetime\n",
    "from random import sample"
   ]
  },
  {
   "cell_type": "code",
   "execution_count": 2,
   "id": "bf2c5a70-8343-495e-8dbd-beecb3b9b924",
   "metadata": {},
   "outputs": [],
   "source": [
    "url_base = 'https://api.chess.com/pub/player/'\n",
    "\n",
    "\n",
    "def get_player_ratings(username):\n",
    "    url = url_base + username + '/stats'\n",
    "    response = requests.get(url).text\n",
    "    data = json.loads(response)\n",
    "    df = pd.json_normalize(data)\n",
    "    return df\n",
    "    \n",
    "    \n",
    "def get_player_games(username, game_archive, months=6):\n",
    "    months += 1\n",
    "    url = url_base + username + '/games/archives'\n",
    "    response = requests.get(url).text\n",
    "    archive = json.loads(response).get('archives')\n",
    "    archive.sort(reverse=True)\n",
    "    archive = archive[:months]\n",
    "    \n",
    "    games_df = pd.DataFrame()\n",
    "    for month in archive:\n",
    "        data = requests.get(month).text\n",
    "        games = json.loads(data).get('games')\n",
    "        for game in games:\n",
    "            df = pd.json_normalize(game)\n",
    "            if df.uuid[0] not in game_archive:\n",
    "                games_df = pd.concat([games_df, df], ignore_index=True)\n",
    "                \n",
    "    return games_df\n",
    "\n",
    "def update_player_list(dataframe, existing):\n",
    "    white = dataframe['white.username']\n",
    "    black = dataframe['black.username']\n",
    "    white = pd.concat([white,black],ignore_index=True)\n",
    "    \n",
    "    players = [i for i in white if i not in existing]\n",
    "    players = [*set(players)]\n",
    "    \n",
    "    return pd.DataFrame(players, columns = ['username'])\n",
    "    "
   ]
  },
  {
   "cell_type": "code",
   "execution_count": 3,
   "id": "f8f7e968-0dda-4bfd-bf36-bdd6fa8430d2",
   "metadata": {},
   "outputs": [],
   "source": [
    "now = datetime.datetime.now()\n",
    "now = now.strftime('%y%m%d-%H%M')\n",
    "month = now[:4]\n",
    "day = now[:6]"
   ]
  },
  {
   "cell_type": "code",
   "execution_count": 4,
   "id": "04466f05-3f67-47c5-98ef-ea6594dc7dad",
   "metadata": {},
   "outputs": [],
   "source": [
    "games_df = pd.read_csv('games.csv', dtype='object')\n",
    "games_df.to_csv('games/{}.csv'.format(now), index=False)\n",
    "game_ids = games_df.uuid.to_list()"
   ]
  },
  {
   "cell_type": "code",
   "execution_count": 5,
   "id": "8274fe5d-59e6-43e8-9967-5ae09f866035",
   "metadata": {},
   "outputs": [],
   "source": [
    "players_df = pd.read_csv('players.csv', dtype='object')\n",
    "\n",
    "players_df = players_df[(players_df['chess_rapid.last.rating'].astype(float) < 1300) & (players_df['chess_rapid.last.rating'].astype(float) > 1050)]\n",
    "\n",
    "existing_players = players_df.username.drop_duplicates().to_list()\n",
    "\n",
    "#to_update = players_df[(players_df['updated'] < month) | (players_df['updated'].isnull())]\n",
    "#usernames = to_update.username.tolist()"
   ]
  },
  {
   "cell_type": "code",
   "execution_count": 6,
   "id": "77803ae8-adc7-4520-a289-917513c585a8",
   "metadata": {},
   "outputs": [],
   "source": [
    "new_players = update_player_list(games_df, existing_players)\n",
    "\n",
    "\n",
    "\n",
    "new_players = new_players.username.to_list()\n",
    "\n",
    "\n",
    "#new_players = ['GMChessrob','windleypratt','Wizard456', 'BogdanDeac', 'MagnusCarlsen','GM-NAGY']\n",
    "\n",
    "\n",
    "\n",
    "len(new_players)\n",
    "\n",
    "\n",
    "new_players = sample(new_players, 500)"
   ]
  },
  {
   "cell_type": "code",
   "execution_count": 7,
   "id": "463ed1ef-11bb-4d20-a7af-434a55594d39",
   "metadata": {},
   "outputs": [],
   "source": [
    "def run_players(player_list, limit=None):\n",
    "    \n",
    "    players = pd.DataFrame()\n",
    "    \n",
    "    start = datetime.datetime.now()\n",
    "    \n",
    "    if limit != None:\n",
    "        player_list = player_list[:limit]\n",
    "        \n",
    "    print('Running {} players.'.format(len(player_list)))\n",
    "\n",
    "    for username in player_list:\n",
    "        try:\n",
    "            df = get_player_ratings(username)\n",
    "            df['username'] = username\n",
    "            df['updated_day'] = day\n",
    "            df['updated_mnth'] = month\n",
    "            players = pd.concat([players, df], ignore_index=True)\n",
    "        except:\n",
    "            continue\n",
    "    \n",
    "    print('Finished in {}.'.format(datetime.datetime.now()-start))\n",
    "    \n",
    "    return players\n",
    "    \n",
    "def run_games(player_list, limit=None, months=6):\n",
    "    \n",
    "    players = pd.DataFrame()\n",
    "    games = pd.DataFrame()\n",
    "    \n",
    "    start = datetime.datetime.now()\n",
    "    \n",
    "    if limit != None:\n",
    "        player_list = player_list[:limit]\n",
    "        \n",
    "    print('Getting games from {} players.'.format(len(player_list)))\n",
    "    \n",
    "    i = 0\n",
    "    \n",
    "    for username in player_list:\n",
    "        i += 1\n",
    "        \n",
    "        if i % 25 == 0:\n",
    "            print('{}/{}'.format(i, limit)) \n",
    "\n",
    "        try:\n",
    "            gms = get_player_games(username, game_ids, months = months)\n",
    "            games = pd.concat([games, gms], ignore_index=True)\n",
    "        except:\n",
    "            continue\n",
    "            \n",
    "\n",
    "\n",
    "    print('Finished in {}.'.format(datetime.datetime.now()-start))\n",
    "    \n",
    "    return games"
   ]
  },
  {
   "cell_type": "code",
   "execution_count": 8,
   "id": "4c1b541e-b86a-4439-8f32-d70f40d83c24",
   "metadata": {},
   "outputs": [
    {
     "name": "stdout",
     "output_type": "stream",
     "text": [
      "Running 500 players.\n",
      "Finished in 0:04:41.722342.\n",
      "Getting games from 100 players.\n",
      "25/100\n",
      "50/100\n",
      "75/100\n",
      "100/100\n",
      "Finished in 0:34:29.076386.\n"
     ]
    }
   ],
   "source": [
    "players = run_players(new_players, 500)\n",
    "games = run_games(new_players, 100, 3)"
   ]
  },
  {
   "cell_type": "code",
   "execution_count": 9,
   "id": "b1d204dd-9798-42e4-9993-dd7a3037a108",
   "metadata": {},
   "outputs": [],
   "source": [
    "player_csv = pd.concat([players_df,players], ignore_index=True).sort_values(by='updated_day', ascending=False)\n",
    "player_csv = player_csv[player_csv['status'] != 'error']\n",
    "player_csv = player_csv.drop_duplicates().reset_index(drop=True)\n",
    "player_csv.to_csv('players.csv',index=False)"
   ]
  },
  {
   "cell_type": "code",
   "execution_count": 11,
   "id": "82935478-f4fc-4ef6-9ad7-0d372aea2d1d",
   "metadata": {},
   "outputs": [],
   "source": [
    "game_csv = pd.concat([games_df, games], ignore_index=True).drop_duplicates(subset = ['uuid']).reset_index(drop=True)\n",
    "game_csv.to_csv('games.csv', index=False)"
   ]
  },
  {
   "cell_type": "code",
   "execution_count": 12,
   "id": "6c16e3d4-9816-4430-91f9-37816843e0f6",
   "metadata": {},
   "outputs": [],
   "source": [
    "rating_thresh = 1300\n",
    "\n",
    "shrink = game_csv[['url', 'rated', 'white.username', 'white.rating', 'white.result','black.username', 'black.rating', 'black.result', 'pgn']]\n",
    "\n",
    "white = shrink[(shrink['black.result'] == 'checkmated') | (shrink['black.result'] == 'resigned')]\n",
    "white = white[(white['white.rating'].apply(float) < 1300) & (white['white.rating'].apply(float) > 1050)]\n",
    "\n",
    "\n",
    "black = shrink[(shrink['white.result'] == 'checkmated') | (shrink['white.result'] == 'resigned')]\n",
    "black = black[(black['black.rating'].apply(float) < 1300) & (black['black.rating'].apply(float) > 1050)]\n",
    "\n",
    "\n",
    "white.to_csv('white.csv', index=False)\n",
    "black.to_csv('black.csv', index=False)"
   ]
  },
  {
   "cell_type": "code",
   "execution_count": 13,
   "id": "200f8478-6e85-4642-b770-67c5b0a4c029",
   "metadata": {},
   "outputs": [
    {
     "data": {
      "text/plain": [
       "134060"
      ]
     },
     "execution_count": 13,
     "metadata": {},
     "output_type": "execute_result"
    }
   ],
   "source": [
    "len(games)"
   ]
  },
  {
   "cell_type": "code",
   "execution_count": 14,
   "id": "ae0f7302-41dd-4306-bed7-7882d8d28c5a",
   "metadata": {},
   "outputs": [
    {
     "data": {
      "text/plain": [
       "764465"
      ]
     },
     "execution_count": 14,
     "metadata": {},
     "output_type": "execute_result"
    }
   ],
   "source": [
    "len(game_csv)"
   ]
  }
 ],
 "metadata": {
  "kernelspec": {
   "display_name": "Python 3 (ipykernel)",
   "language": "python",
   "name": "python3"
  },
  "language_info": {
   "codemirror_mode": {
    "name": "ipython",
    "version": 3
   },
   "file_extension": ".py",
   "mimetype": "text/x-python",
   "name": "python",
   "nbconvert_exporter": "python",
   "pygments_lexer": "ipython3",
   "version": "3.9.7"
  }
 },
 "nbformat": 4,
 "nbformat_minor": 5
}
